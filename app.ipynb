{
 "cells": [
  {
   "cell_type": "code",
   "execution_count": 1,
   "id": "e1c38287",
   "metadata": {},
   "outputs": [],
   "source": [
    "import cv2\n",
    "\n",
    "def convert_color(img, mode=\"gray\"):\n",
    "    if mode == \"gray\":\n",
    "        return cv2.cvtColor(img, cv2.COLOR_BGR2GRAY)\n",
    "    elif mode == \"hsv\":\n",
    "        return cv2.cvtColor(img, cv2.COLOR_BGR2HSV)\n",
    "    elif mode == \"rgb\":\n",
    "        return cv2.cvtColor(img, cv2.COLOR_HSV2BGR)"
   ]
  },
  {
   "cell_type": "markdown",
   "id": "7bfcfa84",
   "metadata": {},
   "source": [
    "## Contrast and Brightness"
   ]
  },
  {
   "cell_type": "code",
   "execution_count": 2,
   "id": "e281dac2",
   "metadata": {},
   "outputs": [],
   "source": [
    "def adjust_contrast_brightness(img, alpha=1.0, beta=0):\n",
    "    # alpha: contrast [1.0-3.0], beta: brightness [0-100]\n",
    "    return cv2.convertScaleAbs(img, alpha=alpha, beta=beta)\n"
   ]
  },
  {
   "cell_type": "markdown",
   "id": "4a8b9b0e",
   "metadata": {},
   "source": [
    "## Histogram"
   ]
  },
  {
   "cell_type": "code",
   "execution_count": 3,
   "id": "f6d56e50",
   "metadata": {},
   "outputs": [],
   "source": [
    "import matplotlib.pyplot as plt\n",
    "\n",
    "def show_histogram(img):\n",
    "    color = ('b','g','r')\n",
    "    for i,col in enumerate(color):\n",
    "        hist = cv2.calcHist([img],[i],None,[256],[0,256])\n",
    "        plt.plot(hist,color=col)\n",
    "    plt.show()\n"
   ]
  },
  {
   "cell_type": "markdown",
   "id": "fbbec41f",
   "metadata": {},
   "source": [
    "## Gaussian & Bilateral Filters"
   ]
  },
  {
   "cell_type": "code",
   "execution_count": 4,
   "id": "2c53d763",
   "metadata": {},
   "outputs": [],
   "source": [
    "def gaussian_filter(img, ksize=5, sigma=1.0):\n",
    "    return cv2.GaussianBlur(img, (ksize, ksize), sigma)\n",
    "\n",
    "def bilateral_filter(img, d=9, sigmaColor=75, sigmaSpace=75):\n",
    "    return cv2.bilateralFilter(img, d, sigmaColor, sigmaSpace)\n"
   ]
  },
  {
   "cell_type": "markdown",
   "id": "838cd137",
   "metadata": {},
   "source": [
    "## Edge & Line Detection"
   ]
  },
  {
   "cell_type": "code",
   "execution_count": 5,
   "id": "da0e5887",
   "metadata": {},
   "outputs": [],
   "source": [
    "def canny_edge(img, low=50, high=150):\n",
    "    return cv2.Canny(img, low, high)\n",
    "\n",
    "def hough_lines(img):\n",
    "    edges = canny_edge(img)\n",
    "    lines = cv2.HoughLinesP(edges, 1, np.pi/180, 100, minLineLength=100, maxLineGap=10)\n",
    "    result = img.copy()\n",
    "    if lines is not None:\n",
    "        for line in lines:\n",
    "            x1,y1,x2,y2 = line[0]\n",
    "            cv2.line(result, (x1,y1), (x2,y2), (0,255,0), 2)\n",
    "    return result\n"
   ]
  },
  {
   "cell_type": "markdown",
   "id": "05331b9e",
   "metadata": {},
   "source": [
    "## Panorama"
   ]
  },
  {
   "cell_type": "code",
   "execution_count": 7,
   "id": "367955a2",
   "metadata": {},
   "outputs": [],
   "source": [
    "def create_panorama(img1, img2):\n",
    "    orb = cv2.ORB_create()\n",
    "    k1, d1 = orb.detectAndCompute(img1, None)\n",
    "    k2, d2 = orb.detectAndCompute(img2, None)\n",
    "\n",
    "    matcher = cv2.BFMatcher(cv2.NORM_HAMMING, crossCheck=True)\n",
    "    matches = matcher.match(d1, d2)\n",
    "    matches = sorted(matches, key=lambda x:x.distance)\n",
    "    pts1 = np.float32([k1[m.queryIdx].pt for m in matches]).reshape(-1,1,2)\n",
    "    pts2 = np.float32([k2[m.trainIdx].pt for m in matches]).reshape(-1,1,2)\n",
    "    H, _ = cv2.findHomography(pts2, pts1, cv2.RANSAC)\n",
    "    result = cv2.warpPerspective(img2, H, (img1.shape[1]+img2.shape[1], img1.shape[0]))\n",
    "    result[0:img1.shape[0], 0:img1.shape[1]] = img1\n",
    "    return result\n"
   ]
  },
  {
   "cell_type": "markdown",
   "id": "d85873ae",
   "metadata": {},
   "source": [
    "## Translation, Rotation, Scale"
   ]
  },
  {
   "cell_type": "code",
   "execution_count": 8,
   "id": "fcf56db8",
   "metadata": {},
   "outputs": [],
   "source": [
    "def transform_image(img, tx=50, ty=50, angle=45, scale=1.0):\n",
    "    rows, cols = img.shape[:2]\n",
    "    M_translate = np.float32([[1, 0, tx], [0, 1, ty]])\n",
    "    M_rotate = cv2.getRotationMatrix2D((cols/2, rows/2), angle, scale)\n",
    "    translated = cv2.warpAffine(img, M_translate, (cols, rows))\n",
    "    rotated = cv2.warpAffine(translated, M_rotate, (cols, rows))\n",
    "    return rotated\n"
   ]
  },
  {
   "cell_type": "markdown",
   "id": "05ede53d",
   "metadata": {},
   "source": [
    "## Calibrate the Camera"
   ]
  },
  {
   "cell_type": "code",
   "execution_count": 9,
   "id": "3e1b20b0",
   "metadata": {},
   "outputs": [],
   "source": [
    "def calibrate_camera(chessboard_images, pattern_size=(9,6)):\n",
    "    objp = np.zeros((pattern_size[0]*pattern_size[1], 3), np.float32)\n",
    "    objp[:,:2] = np.mgrid[0:pattern_size[0],0:pattern_size[1]].T.reshape(-1,2)\n",
    "    objpoints, imgpoints = [], []\n",
    "\n",
    "    for img in chessboard_images:\n",
    "        gray = cv2.cvtColor(img, cv2.COLOR_BGR2GRAY)\n",
    "        ret, corners = cv2.findChessboardCorners(gray, pattern_size, None)\n",
    "        if ret:\n",
    "            objpoints.append(objp)\n",
    "            imgpoints.append(corners)\n",
    "    ret, mtx, dist, rvecs, tvecs = cv2.calibrateCamera(objpoints, imgpoints, gray.shape[::-1], None, None)\n",
    "    return mtx, dist\n"
   ]
  },
  {
   "cell_type": "code",
   "execution_count": 9,
   "id": "10069aa5",
   "metadata": {},
   "outputs": [],
   "source": [
    "# replace pywavefront loading with:\n",
    "import numpy as np\n",
    "vertices = np.array([\n",
    "    [0, 0, 0],\n",
    "    [0, 1, 0],\n",
    "    [1, 1, 0],\n",
    "    [1, 0, 0],\n",
    "    [0, 0, 1],\n",
    "    [0, 1, 1],\n",
    "    [1, 1, 1],\n",
    "    [1, 0, 1],\n",
    "], dtype=np.float32)\n"
   ]
  },
  {
   "cell_type": "code",
   "execution_count": 10,
   "id": "ef09ff47",
   "metadata": {},
   "outputs": [
    {
     "name": "stdout",
     "output_type": "stream",
     "text": [
      "c:\\Users\\User\\OneDrive\\Desktop\\cv lab 2025\\Assignment_1\n",
      "True\n"
     ]
    }
   ],
   "source": [
    "import os\n",
    "\n",
    "print(os.getcwd())\n",
    "print(os.path.exists(\"model.obj\"))"
   ]
  },
  {
   "cell_type": "markdown",
   "id": "31105f3f",
   "metadata": {},
   "source": [
    "## Saved AR_Overlay.png"
   ]
  },
  {
   "cell_type": "code",
   "execution_count": 11,
   "id": "4b2ccd4a",
   "metadata": {},
   "outputs": [],
   "source": [
    "aruco_dict = cv2.aruco.getPredefinedDictionary(cv2.aruco.DICT_4X4_50)\n",
    "marker_id = 0\n"
   ]
  },
  {
   "cell_type": "code",
   "execution_count": 12,
   "id": "8c1507ef",
   "metadata": {},
   "outputs": [
    {
     "name": "stdout",
     "output_type": "stream",
     "text": [
      "🎥 Show your A4 ArUco marker (ID=0) to the camera. Press 'q' to quit.\n"
     ]
    }
   ],
   "source": [
    "import cv2\n",
    "import numpy as np\n",
    "\n",
    "# --- Load calibration data ---\n",
    "data = np.load('calibration.npz')\n",
    "mtx, dist = data['mtx'], data['dist']\n",
    "\n",
    "# --- Initialize camera ---\n",
    "cap = cv2.VideoCapture(0)\n",
    "if not cap.isOpened():\n",
    "    print(\"❌ Cannot open camera\")\n",
    "    exit()\n",
    "\n",
    "# --- ArUco marker info ---\n",
    "aruco_dict = cv2.aruco.getPredefinedDictionary(cv2.aruco.DICT_4X4_50)\n",
    "detector_params = cv2.aruco.DetectorParameters()\n",
    "detector = cv2.aruco.ArucoDetector(aruco_dict, detector_params)\n",
    "\n",
    "marker_length = 0.05  # Marker size in meters (5 cm if printed at that size)\n",
    "\n",
    "print(\"🎥 Show your A4 ArUco marker (ID=0) to the camera. Press 'q' to quit.\")\n",
    "\n",
    "while True:\n",
    "    ret, frame = cap.read()\n",
    "    if not ret:\n",
    "        break\n",
    "\n",
    "    gray = cv2.cvtColor(frame, cv2.COLOR_BGR2GRAY)\n",
    "\n",
    "    # --- Detect markers ---\n",
    "    corners, ids, rejected = detector.detectMarkers(gray)\n",
    "\n",
    "    if ids is not None and len(ids) > 0:\n",
    "        cv2.aruco.drawDetectedMarkers(frame, corners, ids)\n",
    "\n",
    "        # --- Estimate pose ---\n",
    "        rvecs, tvecs, _ = cv2.aruco.estimatePoseSingleMarkers(\n",
    "            corners, marker_length, mtx, dist)\n",
    "\n",
    "        for rvec, tvec in zip(rvecs, tvecs):\n",
    "            cv2.aruco.drawAxis(frame, mtx, dist, rvec, tvec, 0.03)\n",
    "\n",
    "        cv2.putText(frame, \"✅ Marker Detected\", (20, 40),\n",
    "                    cv2.FONT_HERSHEY_SIMPLEX, 1, (0, 255, 0), 2)\n",
    "    else:\n",
    "        cv2.putText(frame, \"🔍 Searching for Marker...\", (20, 40),\n",
    "                    cv2.FONT_HERSHEY_SIMPLEX, 1, (0, 0, 255), 2)\n",
    "\n",
    "    cv2.imshow(\"AR Overlay\", frame)\n",
    "    if cv2.waitKey(1) & 0xFF == ord('q'):\n",
    "        break\n",
    "\n",
    "cap.release()\n",
    "cv2.destroyAllWindows()\n"
   ]
  },
  {
   "cell_type": "code",
   "execution_count": 14,
   "id": "95496db1",
   "metadata": {},
   "outputs": [
    {
     "ename": "AttributeError",
     "evalue": "module 'cv2.aruco' has no attribute 'Dictionary_get'",
     "output_type": "error",
     "traceback": [
      "\u001b[31m---------------------------------------------------------------------------\u001b[39m",
      "\u001b[31mAttributeError\u001b[39m                            Traceback (most recent call last)",
      "\u001b[36mCell\u001b[39m\u001b[36m \u001b[39m\u001b[32mIn[14]\u001b[39m\u001b[32m, line 8\u001b[39m\n\u001b[32m      5\u001b[39m gray = cv2.cvtColor(frame, cv2.COLOR_BGR2GRAY)\n\u001b[32m      7\u001b[39m \u001b[38;5;66;03m# Load predefined dictionary and parameters\u001b[39;00m\n\u001b[32m----> \u001b[39m\u001b[32m8\u001b[39m aruco_dict = \u001b[43mcv2\u001b[49m\u001b[43m.\u001b[49m\u001b[43maruco\u001b[49m\u001b[43m.\u001b[49m\u001b[43mDictionary_get\u001b[49m(cv2.aruco.DICT_4X4_50)\n\u001b[32m      9\u001b[39m parameters = cv2.aruco.DetectorParameters_create()\n\u001b[32m     11\u001b[39m \u001b[38;5;66;03m# Detect the marker corners\u001b[39;00m\n",
      "\u001b[31mAttributeError\u001b[39m: module 'cv2.aruco' has no attribute 'Dictionary_get'"
     ]
    }
   ],
   "source": [
    "# Load image\n",
    "frame = cv2.imread('A4_ArUco_Marker.png')\n",
    "\n",
    "# Convert to grayscale\n",
    "gray = cv2.cvtColor(frame, cv2.COLOR_BGR2GRAY)\n",
    "\n",
    "# Load predefined dictionary and parameters\n",
    "aruco_dict = cv2.aruco.Dictionary_get(cv2.aruco.DICT_4X4_50)\n",
    "parameters = cv2.aruco.DetectorParameters_create()\n",
    "\n",
    "# Detect the marker corners\n",
    "corners, ids, rejected = cv2.aruco.detectMarkers(gray, aruco_dict, parameters=parameters)\n",
    "\n",
    "if ids is not None:\n",
    "    # Draw marker boundaries\n",
    "    cv2.aruco.drawDetectedMarkers(frame, corners, ids)\n",
    "\n",
    "    # Estimate pose of the marker (assuming marker side length = 0.05m)\n",
    "    marker_length = 0.05\n",
    "    rvecs, tvecs, _ = cv2.aruco.estimatePoseSingleMarkers(corners, marker_length, mtx, dist)\n",
    "\n",
    "    # Draw the axis for visualization\n",
    "    for rvec, tvec in zip(rvecs, tvecs):\n",
    "        cv2.aruco.drawAxis(frame, mtx, dist, rvec, tvec, 0.03)\n",
    "\n",
    "cv2.imshow(\"Marker Detection\", frame)\n",
    "cv2.waitKey(0)\n",
    "cv2.destroyAllWindows()\n"
   ]
  },
  {
   "cell_type": "markdown",
   "id": "dd9082d7",
   "metadata": {},
   "source": [
    "Load trex_model"
   ]
  },
  {
   "cell_type": "code",
   "execution_count": 6,
   "id": "187c6df5",
   "metadata": {},
   "outputs": [
    {
     "ename": "FileNotFoundError",
     "evalue": "[Errno 2] No such file or directory: 'C:\\\\Users\\\\User\\\\OneDrive\\\\Desktop\\\\cv lab 2025\\\\Assignment_1\\\\1.mtl'",
     "output_type": "error",
     "traceback": [
      "\u001b[31m---------------------------------------------------------------------------\u001b[39m",
      "\u001b[31mFileNotFoundError\u001b[39m                         Traceback (most recent call last)",
      "\u001b[36mCell\u001b[39m\u001b[36m \u001b[39m\u001b[32mIn[6]\u001b[39m\u001b[32m, line 6\u001b[39m\n\u001b[32m      3\u001b[39m \u001b[38;5;28;01mimport\u001b[39;00m\u001b[38;5;250m \u001b[39m\u001b[34;01mpywavefront\u001b[39;00m  \u001b[38;5;66;03m# to load .obj files\u001b[39;00m\n\u001b[32m      5\u001b[39m \u001b[38;5;66;03m# Load the .obj model\u001b[39;00m\n\u001b[32m----> \u001b[39m\u001b[32m6\u001b[39m scene = \u001b[43mpywavefront\u001b[49m\u001b[43m.\u001b[49m\u001b[43mWavefront\u001b[49m\u001b[43m(\u001b[49m\u001b[33;43m'\u001b[39;49m\u001b[33;43mtrex_model.obj\u001b[39;49m\u001b[33;43m'\u001b[39;49m\u001b[43m,\u001b[49m\u001b[43m \u001b[49m\u001b[43mcollect_faces\u001b[49m\u001b[43m=\u001b[49m\u001b[38;5;28;43;01mTrue\u001b[39;49;00m\u001b[43m)\u001b[49m\n\u001b[32m      8\u001b[39m \u001b[38;5;66;03m# Function to project vertices onto the image\u001b[39;00m\n\u001b[32m      9\u001b[39m \u001b[38;5;28;01mdef\u001b[39;00m\u001b[38;5;250m \u001b[39m\u001b[34mproject_vertices\u001b[39m(vertices, rvec, tvec, camera_matrix, dist_coeffs):\n",
      "\u001b[36mFile \u001b[39m\u001b[32mc:\\Users\\User\\AppData\\Local\\Programs\\Python\\Python312\\Lib\\site-packages\\pywavefront\\wavefront.py:72\u001b[39m, in \u001b[36mWavefront.__init__\u001b[39m\u001b[34m(self, file_name, strict, encoding, create_materials, collect_faces, parse, cache)\u001b[39m\n\u001b[32m     69\u001b[39m \u001b[38;5;28mself\u001b[39m.vertices = []\n\u001b[32m     70\u001b[39m \u001b[38;5;28mself\u001b[39m.mesh_list = []     \u001b[38;5;66;03m# Also includes anonymous meshes\u001b[39;00m\n\u001b[32m---> \u001b[39m\u001b[32m72\u001b[39m \u001b[38;5;28mself\u001b[39m.parser = \u001b[38;5;28;43mself\u001b[39;49m\u001b[43m.\u001b[49m\u001b[43mparser_cls\u001b[49m\u001b[43m(\u001b[49m\n\u001b[32m     73\u001b[39m \u001b[43m    \u001b[49m\u001b[38;5;28;43mself\u001b[39;49m\u001b[43m,\u001b[49m\n\u001b[32m     74\u001b[39m \u001b[43m    \u001b[49m\u001b[38;5;28;43mself\u001b[39;49m\u001b[43m.\u001b[49m\u001b[43mfile_name\u001b[49m\u001b[43m,\u001b[49m\n\u001b[32m     75\u001b[39m \u001b[43m    \u001b[49m\u001b[43mstrict\u001b[49m\u001b[43m=\u001b[49m\u001b[43mstrict\u001b[49m\u001b[43m,\u001b[49m\n\u001b[32m     76\u001b[39m \u001b[43m    \u001b[49m\u001b[43mencoding\u001b[49m\u001b[43m=\u001b[49m\u001b[43mencoding\u001b[49m\u001b[43m,\u001b[49m\n\u001b[32m     77\u001b[39m \u001b[43m    \u001b[49m\u001b[43mcreate_materials\u001b[49m\u001b[43m=\u001b[49m\u001b[43mcreate_materials\u001b[49m\u001b[43m,\u001b[49m\n\u001b[32m     78\u001b[39m \u001b[43m    \u001b[49m\u001b[43mcollect_faces\u001b[49m\u001b[43m=\u001b[49m\u001b[43mcollect_faces\u001b[49m\u001b[43m,\u001b[49m\n\u001b[32m     79\u001b[39m \u001b[43m    \u001b[49m\u001b[43mparse\u001b[49m\u001b[43m=\u001b[49m\u001b[43mparse\u001b[49m\u001b[43m,\u001b[49m\n\u001b[32m     80\u001b[39m \u001b[43m    \u001b[49m\u001b[43mcache\u001b[49m\u001b[43m=\u001b[49m\u001b[43mcache\u001b[49m\u001b[43m)\u001b[49m\n",
      "\u001b[36mFile \u001b[39m\u001b[32mc:\\Users\\User\\AppData\\Local\\Programs\\Python\\Python312\\Lib\\site-packages\\pywavefront\\obj.py:80\u001b[39m, in \u001b[36mObjParser.__init__\u001b[39m\u001b[34m(self, wavefront, file_name, strict, encoding, create_materials, collect_faces, parse, cache)\u001b[39m\n\u001b[32m     77\u001b[39m \u001b[38;5;28mself\u001b[39m.tex_coords = []\n\u001b[32m     79\u001b[39m \u001b[38;5;28;01mif\u001b[39;00m parse:\n\u001b[32m---> \u001b[39m\u001b[32m80\u001b[39m     \u001b[38;5;28;43mself\u001b[39;49m\u001b[43m.\u001b[49m\u001b[43mparse\u001b[49m\u001b[43m(\u001b[49m\u001b[43m)\u001b[49m\n",
      "\u001b[36mFile \u001b[39m\u001b[32mc:\\Users\\User\\AppData\\Local\\Programs\\Python\\Python312\\Lib\\site-packages\\pywavefront\\obj.py:90\u001b[39m, in \u001b[36mObjParser.parse\u001b[39m\u001b[34m(self)\u001b[39m\n\u001b[32m     87\u001b[39m     \u001b[38;5;28mself\u001b[39m.load_cache()\n\u001b[32m     89\u001b[39m \u001b[38;5;28;01mif\u001b[39;00m \u001b[38;5;129;01mnot\u001b[39;00m \u001b[38;5;28mself\u001b[39m.cache_loaded:\n\u001b[32m---> \u001b[39m\u001b[32m90\u001b[39m     \u001b[38;5;28;43msuper\u001b[39;49m\u001b[43m(\u001b[49m\u001b[43mObjParser\u001b[49m\u001b[43m,\u001b[49m\u001b[43m \u001b[49m\u001b[38;5;28;43mself\u001b[39;49m\u001b[43m)\u001b[49m\u001b[43m.\u001b[49m\u001b[43mparse\u001b[49m\u001b[43m(\u001b[49m\u001b[43m)\u001b[49m\n\u001b[32m     92\u001b[39m logger.info(\u001b[33m\"\u001b[39m\u001b[38;5;132;01m%s\u001b[39;00m\u001b[33m: Load time: \u001b[39m\u001b[38;5;132;01m%s\u001b[39;00m\u001b[33m\"\u001b[39m, \u001b[38;5;28mself\u001b[39m.file_name, time.time() - start)\n",
      "\u001b[36mFile \u001b[39m\u001b[32mc:\\Users\\User\\AppData\\Local\\Programs\\Python\\Python312\\Lib\\site-packages\\pywavefront\\parser.py:129\u001b[39m, in \u001b[36mParser.parse\u001b[39m\u001b[34m(self)\u001b[39m\n\u001b[32m    126\u001b[39m             \u001b[38;5;28mself\u001b[39m.consume_line()\n\u001b[32m    127\u001b[39m             \u001b[38;5;28;01mcontinue\u001b[39;00m\n\u001b[32m--> \u001b[39m\u001b[32m129\u001b[39m         \u001b[38;5;28;43mself\u001b[39;49m\u001b[43m.\u001b[49m\u001b[43mdispatcher\u001b[49m\u001b[43m.\u001b[49m\u001b[43mget\u001b[49m\u001b[43m(\u001b[49m\u001b[38;5;28;43mself\u001b[39;49m\u001b[43m.\u001b[49m\u001b[43mvalues\u001b[49m\u001b[43m[\u001b[49m\u001b[32;43m0\u001b[39;49m\u001b[43m]\u001b[49m\u001b[43m,\u001b[49m\u001b[43m \u001b[49m\u001b[38;5;28;43mself\u001b[39;49m\u001b[43m.\u001b[49m\u001b[43mparse_fallback\u001b[49m\u001b[43m)\u001b[49m\u001b[43m(\u001b[49m\u001b[43m)\u001b[49m\n\u001b[32m    130\u001b[39m \u001b[38;5;28;01mexcept\u001b[39;00m \u001b[38;5;167;01mStopIteration\u001b[39;00m:\n\u001b[32m    131\u001b[39m     \u001b[38;5;28;01mpass\u001b[39;00m\n",
      "\u001b[36mFile \u001b[39m\u001b[32mc:\\Users\\User\\AppData\\Local\\Programs\\Python\\Python312\\Lib\\site-packages\\pywavefront\\parser.py:47\u001b[39m, in \u001b[36mauto_consume.<locals>.inner\u001b[39m\u001b[34m(*args, **kwargs)\u001b[39m\n\u001b[32m     46\u001b[39m \u001b[38;5;28;01mdef\u001b[39;00m\u001b[38;5;250m \u001b[39m\u001b[34minner\u001b[39m(*args, **kwargs):\n\u001b[32m---> \u001b[39m\u001b[32m47\u001b[39m     \u001b[43mfunc\u001b[49m\u001b[43m(\u001b[49m\u001b[43m*\u001b[49m\u001b[43margs\u001b[49m\u001b[43m,\u001b[49m\u001b[43m \u001b[49m\u001b[43m*\u001b[49m\u001b[43m*\u001b[49m\u001b[43mkwargs\u001b[49m\u001b[43m)\u001b[49m\n\u001b[32m     48\u001b[39m     args[\u001b[32m0\u001b[39m].consume_line()\n",
      "\u001b[36mFile \u001b[39m\u001b[32mc:\\Users\\User\\AppData\\Local\\Programs\\Python\\Python312\\Lib\\site-packages\\pywavefront\\obj.py:215\u001b[39m, in \u001b[36mObjParser.parse_mtllib\u001b[39m\u001b[34m(self)\u001b[39m\n\u001b[32m    213\u001b[39m mtllib = \u001b[33m\"\u001b[39m\u001b[33m \u001b[39m\u001b[33m\"\u001b[39m.join(\u001b[38;5;28mself\u001b[39m.values[\u001b[32m1\u001b[39m:])\n\u001b[32m    214\u001b[39m \u001b[38;5;28;01mtry\u001b[39;00m:\n\u001b[32m--> \u001b[39m\u001b[32m215\u001b[39m     materials = \u001b[38;5;28;43mself\u001b[39;49m\u001b[43m.\u001b[49m\u001b[43mmaterial_parser_cls\u001b[49m\u001b[43m(\u001b[49m\n\u001b[32m    216\u001b[39m \u001b[43m        \u001b[49m\u001b[38;5;28;43mself\u001b[39;49m\u001b[43m.\u001b[49m\u001b[43mdir\u001b[49m\u001b[43m \u001b[49m\u001b[43m/\u001b[49m\u001b[43m \u001b[49m\u001b[43mmtllib\u001b[49m\u001b[43m,\u001b[49m\n\u001b[32m    217\u001b[39m \u001b[43m        \u001b[49m\u001b[43mencoding\u001b[49m\u001b[43m=\u001b[49m\u001b[38;5;28;43mself\u001b[39;49m\u001b[43m.\u001b[49m\u001b[43mencoding\u001b[49m\u001b[43m,\u001b[49m\n\u001b[32m    218\u001b[39m \u001b[43m        \u001b[49m\u001b[43mstrict\u001b[49m\u001b[43m=\u001b[49m\u001b[38;5;28;43mself\u001b[39;49m\u001b[43m.\u001b[49m\u001b[43mstrict\u001b[49m\u001b[43m,\u001b[49m\n\u001b[32m    219\u001b[39m \u001b[43m        \u001b[49m\u001b[43mcollect_faces\u001b[49m\u001b[43m=\u001b[49m\u001b[38;5;28;43mself\u001b[39;49m\u001b[43m.\u001b[49m\u001b[43mcollect_faces\u001b[49m\n\u001b[32m    220\u001b[39m \u001b[43m    \u001b[49m\u001b[43m)\u001b[49m.materials\n\u001b[32m    221\u001b[39m     \u001b[38;5;28mself\u001b[39m.wavefront.mtllibs.append(mtllib)\n\u001b[32m    222\u001b[39m \u001b[38;5;28;01mexcept\u001b[39;00m \u001b[38;5;167;01mIOError\u001b[39;00m:\n",
      "\u001b[36mFile \u001b[39m\u001b[32mc:\\Users\\User\\AppData\\Local\\Programs\\Python\\Python312\\Lib\\site-packages\\pywavefront\\material.py:175\u001b[39m, in \u001b[36mMaterialParser.__init__\u001b[39m\u001b[34m(self, file_name, strict, encoding, parse, collect_faces)\u001b[39m\n\u001b[32m    172\u001b[39m \u001b[38;5;28mself\u001b[39m.collect_faces = collect_faces\n\u001b[32m    174\u001b[39m \u001b[38;5;28;01mif\u001b[39;00m parse:\n\u001b[32m--> \u001b[39m\u001b[32m175\u001b[39m     \u001b[38;5;28;43mself\u001b[39;49m\u001b[43m.\u001b[49m\u001b[43mparse\u001b[49m\u001b[43m(\u001b[49m\u001b[43m)\u001b[49m\n",
      "\u001b[36mFile \u001b[39m\u001b[32mc:\\Users\\User\\AppData\\Local\\Programs\\Python\\Python312\\Lib\\site-packages\\pywavefront\\parser.py:123\u001b[39m, in \u001b[36mParser.parse\u001b[39m\u001b[34m(self)\u001b[39m\n\u001b[32m    118\u001b[39m \u001b[38;5;28;01mwhile\u001b[39;00m \u001b[38;5;28;01mTrue\u001b[39;00m:\n\u001b[32m    119\u001b[39m     \u001b[38;5;66;03m# Only advance the parser if the previous line was consumed.\u001b[39;00m\n\u001b[32m    120\u001b[39m     \u001b[38;5;66;03m# Parse functions reading multiple lines can end up reading one line too far,\u001b[39;00m\n\u001b[32m    121\u001b[39m     \u001b[38;5;66;03m# so they return without consuming the line and we pick it up here\u001b[39;00m\n\u001b[32m    122\u001b[39m     \u001b[38;5;28;01mif\u001b[39;00m \u001b[38;5;129;01mnot\u001b[39;00m \u001b[38;5;28mself\u001b[39m.line:\n\u001b[32m--> \u001b[39m\u001b[32m123\u001b[39m         \u001b[38;5;28;43mself\u001b[39;49m\u001b[43m.\u001b[49m\u001b[43mnext_line\u001b[49m\u001b[43m(\u001b[49m\u001b[43m)\u001b[49m\n\u001b[32m    125\u001b[39m     \u001b[38;5;28;01mif\u001b[39;00m \u001b[38;5;28mself\u001b[39m.line[\u001b[32m0\u001b[39m] == \u001b[33m'\u001b[39m\u001b[33m#\u001b[39m\u001b[33m'\u001b[39m \u001b[38;5;129;01mor\u001b[39;00m \u001b[38;5;28mlen\u001b[39m(\u001b[38;5;28mself\u001b[39m.values) < \u001b[32m2\u001b[39m:\n\u001b[32m    126\u001b[39m         \u001b[38;5;28mself\u001b[39m.consume_line()\n",
      "\u001b[36mFile \u001b[39m\u001b[32mc:\\Users\\User\\AppData\\Local\\Programs\\Python\\Python312\\Lib\\site-packages\\pywavefront\\parser.py:99\u001b[39m, in \u001b[36mParser.next_line\u001b[39m\u001b[34m(self)\u001b[39m\n\u001b[32m     97\u001b[39m \u001b[38;5;28;01mdef\u001b[39;00m\u001b[38;5;250m \u001b[39m\u001b[34mnext_line\u001b[39m(\u001b[38;5;28mself\u001b[39m):\n\u001b[32m     98\u001b[39m \u001b[38;5;250m    \u001b[39m\u001b[33;03m\"\"\"Read the next line from the line generator and split it\"\"\"\u001b[39;00m\n\u001b[32m---> \u001b[39m\u001b[32m99\u001b[39m     \u001b[38;5;28mself\u001b[39m.line = \u001b[38;5;28;43mnext\u001b[39;49m\u001b[43m(\u001b[49m\u001b[38;5;28;43mself\u001b[39;49m\u001b[43m.\u001b[49m\u001b[43mlines\u001b[49m\u001b[43m)\u001b[49m  \u001b[38;5;66;03m# Will raise StopIteration when there are no more lines\u001b[39;00m\n\u001b[32m    100\u001b[39m     \u001b[38;5;28mself\u001b[39m.values = \u001b[38;5;28mself\u001b[39m.line.split()\n",
      "\u001b[36mFile \u001b[39m\u001b[32mc:\\Users\\User\\AppData\\Local\\Programs\\Python\\Python312\\Lib\\site-packages\\pywavefront\\parser.py:90\u001b[39m, in \u001b[36mParser.create_line_generator\u001b[39m\u001b[34m(self)\u001b[39m\n\u001b[32m     87\u001b[39m     gz.close()\n\u001b[32m     88\u001b[39m \u001b[38;5;28;01melse\u001b[39;00m:\n\u001b[32m     89\u001b[39m     \u001b[38;5;66;03m# FIXME: Converting to str for now for py34 compatibility\u001b[39;00m\n\u001b[32m---> \u001b[39m\u001b[32m90\u001b[39m     file = \u001b[38;5;28;43mopen\u001b[39;49m\u001b[43m(\u001b[49m\u001b[38;5;28;43mstr\u001b[39;49m\u001b[43m(\u001b[49m\u001b[38;5;28;43mself\u001b[39;49m\u001b[43m.\u001b[49m\u001b[43mfile_name\u001b[49m\u001b[43m)\u001b[49m\u001b[43m,\u001b[49m\u001b[43m \u001b[49m\u001b[43mmode\u001b[49m\u001b[43m=\u001b[49m\u001b[33;43m'\u001b[39;49m\u001b[33;43mr\u001b[39;49m\u001b[33;43m'\u001b[39;49m\u001b[43m,\u001b[49m\u001b[43m \u001b[49m\u001b[43mencoding\u001b[49m\u001b[43m=\u001b[49m\u001b[38;5;28;43mself\u001b[39;49m\u001b[43m.\u001b[49m\u001b[43mencoding\u001b[49m\u001b[43m)\u001b[49m\n\u001b[32m     92\u001b[39m     \u001b[38;5;28;01mfor\u001b[39;00m line \u001b[38;5;129;01min\u001b[39;00m file:\n\u001b[32m     93\u001b[39m         \u001b[38;5;28;01myield\u001b[39;00m line\n",
      "\u001b[31mFileNotFoundError\u001b[39m: [Errno 2] No such file or directory: 'C:\\\\Users\\\\User\\\\OneDrive\\\\Desktop\\\\cv lab 2025\\\\Assignment_1\\\\1.mtl'"
     ]
    }
   ],
   "source": [
    "import cv2\n",
    "import numpy as np\n",
    "import pywavefront  # to load .obj files\n",
    "\n",
    "# Load the .obj model\n",
    "scene = pywavefront.Wavefront('trex_model.obj', collect_faces=True)\n",
    "\n",
    "# Function to project vertices onto the image\n",
    "def project_vertices(vertices, rvec, tvec, camera_matrix, dist_coeffs):\n",
    "    projected_points, _ = cv2.projectPoints(vertices, rvec, tvec, camera_matrix, dist_coeffs)\n",
    "    return projected_points.reshape(-1, 2)\n",
    "\n",
    "# Draw the model\n",
    "for mesh in scene.mesh_list:\n",
    "    for face in mesh.faces:\n",
    "        pts = np.array([scene.vertices[i] for i in face], dtype=np.float32)\n",
    "        pts = pts * 0.5  # scale up or down to fit AR scene\n",
    "        img_pts = project_vertices(pts, rvec, tvec, camera_matrix, dist_coeffs)\n",
    "        img_pts = img_pts.astype(int)\n",
    "        cv2.polylines(frame, [img_pts], isClosed=True, color=(0, 0, 255), thickness=2)\n"
   ]
  }
 ],
 "metadata": {
  "kernelspec": {
   "display_name": "Python 3",
   "language": "python",
   "name": "python3"
  },
  "language_info": {
   "codemirror_mode": {
    "name": "ipython",
    "version": 3
   },
   "file_extension": ".py",
   "mimetype": "text/x-python",
   "name": "python",
   "nbconvert_exporter": "python",
   "pygments_lexer": "ipython3",
   "version": "3.12.8"
  }
 },
 "nbformat": 4,
 "nbformat_minor": 5
}
